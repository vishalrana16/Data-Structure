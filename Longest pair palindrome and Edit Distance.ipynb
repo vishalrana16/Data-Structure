{
 "cells": [
  {
   "cell_type": "code",
   "execution_count": 62,
   "metadata": {
    "collapsed": true
   },
   "outputs": [],
   "source": [
    "string=\"nn\""
   ]
  },
  {
   "cell_type": "code",
   "execution_count": 63,
   "metadata": {
    "collapsed": true
   },
   "outputs": [],
   "source": [
    "len_of_str = len(string)"
   ]
  },
  {
   "cell_type": "code",
   "execution_count": 64,
   "metadata": {},
   "outputs": [],
   "source": [
    "matrix = [[0 for x in range(len_of_str)] for y in range(len_of_str)]"
   ]
  },
  {
   "cell_type": "code",
   "execution_count": 65,
   "metadata": {},
   "outputs": [
    {
     "data": {
      "text/plain": [
       "[[0, 0], [0, 0]]"
      ]
     },
     "execution_count": 65,
     "metadata": {},
     "output_type": "execute_result"
    }
   ],
   "source": [
    "matrix"
   ]
  },
  {
   "cell_type": "code",
   "execution_count": 66,
   "metadata": {},
   "outputs": [
    {
     "data": {
      "text/plain": [
       "0"
      ]
     },
     "execution_count": 66,
     "metadata": {},
     "output_type": "execute_result"
    }
   ],
   "source": [
    "matrix[0][0]"
   ]
  },
  {
   "cell_type": "code",
   "execution_count": 67,
   "metadata": {
    "collapsed": true
   },
   "outputs": [],
   "source": [
    "for i in range(len_of_str):\n",
    "    matrix[i][i] = 1"
   ]
  },
  {
   "cell_type": "code",
   "execution_count": 68,
   "metadata": {},
   "outputs": [
    {
     "data": {
      "text/plain": [
       "[[1, 0], [0, 1]]"
      ]
     },
     "execution_count": 68,
     "metadata": {},
     "output_type": "execute_result"
    }
   ],
   "source": [
    "matrix"
   ]
  },
  {
   "cell_type": "code",
   "execution_count": 69,
   "metadata": {},
   "outputs": [],
   "source": [
    "for i in range(2,len_of_str+1):\n",
    "    for row in range(0,len_of_str-i+1):\n",
    "        column = row+i-1\n",
    "        \n",
    "        if string[row] is string[column]:\n",
    "            if row == column:\n",
    "                continue\n",
    "            else:            \n",
    "                matrix[row][column] = matrix[row+1][column-1]+2\n",
    "            \n",
    "        else:\n",
    "            matrix[row][column] = max(matrix[row][column-1], matrix[row+1][column])\n",
    "            "
   ]
  },
  {
   "cell_type": "code",
   "execution_count": 70,
   "metadata": {},
   "outputs": [
    {
     "data": {
      "text/plain": [
       "[[1, 2], [0, 1]]"
      ]
     },
     "execution_count": 70,
     "metadata": {},
     "output_type": "execute_result"
    }
   ],
   "source": [
    "matrix"
   ]
  },
  {
   "cell_type": "code",
   "execution_count": 71,
   "metadata": {},
   "outputs": [
    {
     "name": "stdout",
     "output_type": "stream",
     "text": [
      "The longest palindromic sequence is 2\n"
     ]
    }
   ],
   "source": [
    "print(\"The longest palindromic sequence is\",matrix[0][len_of_str-1])"
   ]
  },
  {
   "cell_type": "code",
   "execution_count": 72,
   "metadata": {},
   "outputs": [
    {
     "data": {
      "text/plain": [
       "'USING NAIVE RECURSION'"
      ]
     },
     "execution_count": 72,
     "metadata": {},
     "output_type": "execute_result"
    }
   ],
   "source": [
    "\"\"\"USING NAIVE RECURSION\"\"\""
   ]
  },
  {
   "cell_type": "code",
   "execution_count": 86,
   "metadata": {
    "collapsed": true
   },
   "outputs": [],
   "source": [
    "def lps(seq, i,j):\n",
    "    if (i == j):\n",
    "        return 1\n",
    "    if (seq[i] == seq[j] and (i+1 == j)):\n",
    "        return 2\n",
    "    if (seq[i] == seq[j]):\n",
    "        return lps(seq, i+1, j-1)+2\n",
    "    return max(lps(seq, i,j-1), lps(seq, i+1,j))"
   ]
  },
  {
   "cell_type": "code",
   "execution_count": 93,
   "metadata": {
    "collapsed": true
   },
   "outputs": [],
   "source": [
    "seq = 'BABCBAB'"
   ]
  },
  {
   "cell_type": "code",
   "execution_count": 94,
   "metadata": {
    "collapsed": true
   },
   "outputs": [],
   "source": [
    "n = len(seq)"
   ]
  },
  {
   "cell_type": "code",
   "execution_count": 95,
   "metadata": {},
   "outputs": [
    {
     "name": "stdout",
     "output_type": "stream",
     "text": [
      "7\n"
     ]
    }
   ],
   "source": [
    "print(lps(seq, 0, n-1))"
   ]
  },
  {
   "cell_type": "code",
   "execution_count": null,
   "metadata": {
    "collapsed": true
   },
   "outputs": [],
   "source": []
  },
  {
   "cell_type": "code",
   "execution_count": null,
   "metadata": {
    "collapsed": true
   },
   "outputs": [],
   "source": []
  },
  {
   "cell_type": "code",
   "execution_count": 96,
   "metadata": {},
   "outputs": [
    {
     "data": {
      "text/plain": [
       "'EDIT DISTANCE PROBLEM'"
      ]
     },
     "execution_count": 96,
     "metadata": {},
     "output_type": "execute_result"
    }
   ],
   "source": [
    "\"\"\"EDIT DISTANCE PROBLEM\"\"\""
   ]
  },
  {
   "cell_type": "code",
   "execution_count": 118,
   "metadata": {
    "collapsed": true
   },
   "outputs": [],
   "source": [
    "str1 = 'abcdef'\n",
    "str2 = 'azced'"
   ]
  },
  {
   "cell_type": "code",
   "execution_count": 119,
   "metadata": {
    "collapsed": true
   },
   "outputs": [],
   "source": [
    "matrix = [[0 for x in range(len(str1)+1)] for y in range(len(str2)+1)]"
   ]
  },
  {
   "cell_type": "code",
   "execution_count": 120,
   "metadata": {},
   "outputs": [
    {
     "data": {
      "text/plain": [
       "[[0, 0, 0, 0, 0, 0, 0],\n",
       " [0, 0, 0, 0, 0, 0, 0],\n",
       " [0, 0, 0, 0, 0, 0, 0],\n",
       " [0, 0, 0, 0, 0, 0, 0],\n",
       " [0, 0, 0, 0, 0, 0, 0],\n",
       " [0, 0, 0, 0, 0, 0, 0]]"
      ]
     },
     "execution_count": 120,
     "metadata": {},
     "output_type": "execute_result"
    }
   ],
   "source": [
    "matrix"
   ]
  },
  {
   "cell_type": "code",
   "execution_count": 121,
   "metadata": {
    "collapsed": true
   },
   "outputs": [],
   "source": [
    "for i in range(len(str1)+1):\n",
    "    matrix[0][i] = i"
   ]
  },
  {
   "cell_type": "code",
   "execution_count": 122,
   "metadata": {},
   "outputs": [
    {
     "data": {
      "text/plain": [
       "[[0, 1, 2, 3, 4, 5, 6],\n",
       " [0, 0, 0, 0, 0, 0, 0],\n",
       " [0, 0, 0, 0, 0, 0, 0],\n",
       " [0, 0, 0, 0, 0, 0, 0],\n",
       " [0, 0, 0, 0, 0, 0, 0],\n",
       " [0, 0, 0, 0, 0, 0, 0]]"
      ]
     },
     "execution_count": 122,
     "metadata": {},
     "output_type": "execute_result"
    }
   ],
   "source": [
    "matrix"
   ]
  },
  {
   "cell_type": "code",
   "execution_count": 123,
   "metadata": {
    "collapsed": true
   },
   "outputs": [],
   "source": [
    "for i in range(len(str2)+1):\n",
    "    matrix[i][0] = i"
   ]
  },
  {
   "cell_type": "code",
   "execution_count": 124,
   "metadata": {},
   "outputs": [
    {
     "data": {
      "text/plain": [
       "[[0, 1, 2, 3, 4, 5, 6],\n",
       " [1, 0, 0, 0, 0, 0, 0],\n",
       " [2, 0, 0, 0, 0, 0, 0],\n",
       " [3, 0, 0, 0, 0, 0, 0],\n",
       " [4, 0, 0, 0, 0, 0, 0],\n",
       " [5, 0, 0, 0, 0, 0, 0]]"
      ]
     },
     "execution_count": 124,
     "metadata": {},
     "output_type": "execute_result"
    }
   ],
   "source": [
    "matrix"
   ]
  },
  {
   "cell_type": "code",
   "execution_count": 125,
   "metadata": {},
   "outputs": [],
   "source": [
    "for i in range(1,len(str2)+1):\n",
    "    for j in range(1, len(str1)+1):\n",
    "        if str2[i-1] is str1[j-1]:\n",
    "            matrix[i][j] = matrix[i-1][j-1]\n",
    "        else:\n",
    "            matrix[i][j] = min(matrix[i-1][j-1], matrix[i][j-1], matrix[i-1][j])+1\n",
    "            \n",
    "    "
   ]
  },
  {
   "cell_type": "code",
   "execution_count": 126,
   "metadata": {},
   "outputs": [
    {
     "data": {
      "text/plain": [
       "[[0, 1, 2, 3, 4, 5, 6],\n",
       " [1, 0, 1, 2, 3, 4, 5],\n",
       " [2, 1, 1, 2, 3, 4, 5],\n",
       " [3, 2, 2, 1, 2, 3, 4],\n",
       " [4, 3, 3, 2, 2, 2, 3],\n",
       " [5, 4, 4, 3, 2, 3, 3]]"
      ]
     },
     "execution_count": 126,
     "metadata": {},
     "output_type": "execute_result"
    }
   ],
   "source": [
    "matrix"
   ]
  },
  {
   "cell_type": "code",
   "execution_count": 127,
   "metadata": {
    "collapsed": true
   },
   "outputs": [],
   "source": [
    "x = 2"
   ]
  },
  {
   "cell_type": "code",
   "execution_count": 130,
   "metadata": {
    "collapsed": true
   },
   "outputs": [],
   "source": [
    "def func(n):\n",
    "    if n==100:\n",
    "        print(n)\n",
    "        return\n",
    "    else:\n",
    "        print(n)\n",
    "        return func(n+1)\n"
   ]
  },
  {
   "cell_type": "code",
   "execution_count": 132,
   "metadata": {},
   "outputs": [],
   "source": [
    "#func(1)"
   ]
  },
  {
   "cell_type": "code",
   "execution_count": 195,
   "metadata": {
    "collapsed": true
   },
   "outputs": [],
   "source": [
    "str1 = '4567'"
   ]
  },
  {
   "cell_type": "code",
   "execution_count": 196,
   "metadata": {},
   "outputs": [],
   "source": [
    "str2 = list(str1)"
   ]
  },
  {
   "cell_type": "code",
   "execution_count": 197,
   "metadata": {},
   "outputs": [
    {
     "data": {
      "text/plain": [
       "['4', '5', '6', '7']"
      ]
     },
     "execution_count": 197,
     "metadata": {},
     "output_type": "execute_result"
    }
   ],
   "source": [
    "str2"
   ]
  },
  {
   "cell_type": "code",
   "execution_count": 208,
   "metadata": {
    "collapsed": true
   },
   "outputs": [],
   "source": [
    "def permute(str2):\n",
    "    if len(str2) == 0:\n",
    "        return []\n",
    "    if len(str2) == 1:\n",
    "        return [str2]\n",
    "    l = []\n",
    "    for i in range(len(str2)):\n",
    "        m = str2[i]\n",
    "        rem = str2[:i]+str2[i+1:]\n",
    "        for p in permute(rem):\n",
    "            l.append([m]+p)\n",
    "    return l\n",
    "        \n",
    "    "
   ]
  },
  {
   "cell_type": "code",
   "execution_count": 210,
   "metadata": {},
   "outputs": [
    {
     "name": "stdout",
     "output_type": "stream",
     "text": [
      "['A', 'B', 'C', 'D']\n",
      "['A', 'B', 'D', 'C']\n",
      "['A', 'C', 'B', 'D']\n",
      "['A', 'C', 'D', 'B']\n",
      "['A', 'D', 'B', 'C']\n",
      "['A', 'D', 'C', 'B']\n",
      "['B', 'A', 'C', 'D']\n",
      "['B', 'A', 'D', 'C']\n",
      "['B', 'C', 'A', 'D']\n",
      "['B', 'C', 'D', 'A']\n",
      "['B', 'D', 'A', 'C']\n",
      "['B', 'D', 'C', 'A']\n",
      "['C', 'A', 'B', 'D']\n",
      "['C', 'A', 'D', 'B']\n",
      "['C', 'B', 'A', 'D']\n",
      "['C', 'B', 'D', 'A']\n",
      "['C', 'D', 'A', 'B']\n",
      "['C', 'D', 'B', 'A']\n",
      "['D', 'A', 'B', 'C']\n",
      "['D', 'A', 'C', 'B']\n",
      "['D', 'B', 'A', 'C']\n",
      "['D', 'B', 'C', 'A']\n",
      "['D', 'C', 'A', 'B']\n",
      "['D', 'C', 'B', 'A']\n"
     ]
    }
   ],
   "source": [
    "data = list('ABCD')\n",
    "for p in permute(data):\n",
    "    print(p)"
   ]
  },
  {
   "cell_type": "code",
   "execution_count": 188,
   "metadata": {},
   "outputs": [],
   "source": [
    "def permutation(lst):\n",
    "    if len(lst) == 0:\n",
    "        return []\n",
    " \n",
    "    if len(lst) == 1:\n",
    "        return [lst]\n",
    " \n",
    "    l = []\n",
    "    for i in range(len(lst)):\n",
    "       m = lst[i]\n",
    "       remLst = lst[:i] + lst[i+1:]\n",
    "       for p in permutation(remLst):\n",
    "           l.append([m] + p)\n",
    "    return l\n"
   ]
  },
  {
   "cell_type": "code",
   "execution_count": 189,
   "metadata": {},
   "outputs": [
    {
     "name": "stdout",
     "output_type": "stream",
     "text": [
      "['1', '2', '3']\n",
      "['1', '3', '2']\n",
      "['2', '1', '3']\n",
      "['2', '3', '1']\n",
      "['3', '1', '2']\n",
      "['3', '2', '1']\n"
     ]
    }
   ],
   "source": [
    "data = list('123')\n",
    "for p in permutation(data):\n",
    "    print(p)"
   ]
  },
  {
   "cell_type": "code",
   "execution_count": null,
   "metadata": {
    "collapsed": true
   },
   "outputs": [],
   "source": [
    "x = 2"
   ]
  },
  {
   "cell_type": "code",
   "execution_count": null,
   "metadata": {
    "collapsed": true
   },
   "outputs": [],
   "source": []
  }
 ],
 "metadata": {
  "kernelspec": {
   "display_name": "Python 3",
   "language": "python",
   "name": "python3"
  },
  "language_info": {
   "codemirror_mode": {
    "name": "ipython",
    "version": 3
   },
   "file_extension": ".py",
   "mimetype": "text/x-python",
   "name": "python",
   "nbconvert_exporter": "python",
   "pygments_lexer": "ipython3",
   "version": "3.6.1"
  }
 },
 "nbformat": 4,
 "nbformat_minor": 2
}
