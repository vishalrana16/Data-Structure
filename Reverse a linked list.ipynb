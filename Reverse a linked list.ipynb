{
 "cells": [
  {
   "cell_type": "code",
   "execution_count": 71,
   "metadata": {
    "collapsed": true
   },
   "outputs": [],
   "source": [
    "class Node:\n",
    "    def __init__(self, data):\n",
    "        self.data = data\n",
    "        self.next = None"
   ]
  },
  {
   "cell_type": "code",
   "execution_count": 72,
   "metadata": {},
   "outputs": [],
   "source": [
    "class LinkedList:\n",
    "    def __init__(self):\n",
    "        self.head = None\n",
    "        \n",
    "    def insert(self, newNode):\n",
    "        #first check whether the head of the ll is empty or not:-\n",
    "        if self.head is None:\n",
    "            self.head = newNode\n",
    "        else:\n",
    "            #self.head.next = newNode  ...not an ideal solution we will se this:-\n",
    "            #head->vishal->shivam->none\n",
    "            #now traversing\n",
    "            lastNode = self.head\n",
    "            while True:\n",
    "                if lastNode.next is None:\n",
    "                    break\n",
    "                lastNode = lastNode.next\n",
    "            lastNode.next = newNode\n",
    "            \n",
    "    def reverse(self):\n",
    "        current_node = self.head\n",
    "        prev_node = None\n",
    "        next_node = None\n",
    "        while(current_node is not None):\n",
    "            next_node = current_node.next\n",
    "            current_node.next = prev_node\n",
    "            prev_node = current_node\n",
    "            current_node = next_node\n",
    "            \n",
    "        self.head = prev_node\n",
    "        \n",
    "    def reverse_recursion(self, start):\n",
    "        if start.next is None:\n",
    "            self.head = start\n",
    "            return\n",
    "        self.reverse_recursion(start.next)\n",
    "        prev = start.next\n",
    "        prev.next = start\n",
    "        start.next = None        \n",
    "    \n",
    "   \n",
    "    def printList(self):\n",
    "        if self.head is None:\n",
    "            print('List is Empty')\n",
    "        #head->vishal->shivam->budha->None\n",
    "        currentNode = self.head\n",
    "        while True:\n",
    "            if currentNode is None:\n",
    "                break\n",
    "            print(currentNode.data)\n",
    "            currentNode = currentNode.next\n",
    "        "
   ]
  },
  {
   "cell_type": "code",
   "execution_count": 73,
   "metadata": {},
   "outputs": [
    {
     "name": "stdout",
     "output_type": "stream",
     "text": [
      "10\n",
      "20\n",
      "30\n",
      "40\n",
      "50\n"
     ]
    }
   ],
   "source": [
    "#firstNode.data =>vishal and points to none\n",
    "firstNode = Node(10)\n",
    "#now adding the object node to the linked list:-\n",
    "linkedList = LinkedList() #no parameter is passed bcz its empty initially and head should be None this time so we make init and make that head as none\n",
    "#now insert the node:-\n",
    "linkedList.insert(firstNode) #now there should be an insert method to insert the node so we make this in the class:-\n",
    "\n",
    "secondNode = Node(20)\n",
    "linkedList.insert(secondNode)\n",
    "\n",
    "thirdNode = Node(30)\n",
    "linkedList.insert(thirdNode)\n",
    "#now self.head.next = newNode ,when we insert this the upper code will make ll as head->vishal->budha->none ie there is no shivam\n",
    "#so we will change our code:-\n",
    "#we saw that the last node's next point to None , hence the new node should be added to the next of last node\n",
    "#now how to find the last node, is by doing the traversal:-\n",
    "forthNode = Node(40)\n",
    "linkedList.insert(forthNode)\n",
    "\n",
    "fifthNode = Node(50)\n",
    "linkedList.insert(fifthNode)\n",
    "linkedList.printList()"
   ]
  },
  {
   "cell_type": "code",
   "execution_count": 74,
   "metadata": {},
   "outputs": [
    {
     "data": {
      "text/plain": [
       "'reverse function using iteration'"
      ]
     },
     "execution_count": 74,
     "metadata": {},
     "output_type": "execute_result"
    }
   ],
   "source": [
    "'''reverse function using iteration'''"
   ]
  },
  {
   "cell_type": "code",
   "execution_count": 75,
   "metadata": {},
   "outputs": [],
   "source": [
    "linkedList.reverse()"
   ]
  },
  {
   "cell_type": "code",
   "execution_count": 76,
   "metadata": {},
   "outputs": [
    {
     "name": "stdout",
     "output_type": "stream",
     "text": [
      "50\n",
      "40\n",
      "30\n",
      "20\n",
      "10\n"
     ]
    }
   ],
   "source": [
    "linkedList.printList()"
   ]
  },
  {
   "cell_type": "code",
   "execution_count": 77,
   "metadata": {},
   "outputs": [
    {
     "data": {
      "text/plain": [
       "'reverse function using recursion'"
      ]
     },
     "execution_count": 77,
     "metadata": {},
     "output_type": "execute_result"
    }
   ],
   "source": [
    "'''reverse function using recursion'''"
   ]
  },
  {
   "cell_type": "code",
   "execution_count": 78,
   "metadata": {
    "collapsed": true
   },
   "outputs": [],
   "source": [
    "start = linkedList.head"
   ]
  },
  {
   "cell_type": "code",
   "execution_count": 79,
   "metadata": {},
   "outputs": [],
   "source": [
    "linkedList.reverse_recursion(start)"
   ]
  },
  {
   "cell_type": "code",
   "execution_count": 80,
   "metadata": {},
   "outputs": [
    {
     "name": "stdout",
     "output_type": "stream",
     "text": [
      "10\n",
      "20\n",
      "30\n",
      "40\n",
      "50\n"
     ]
    }
   ],
   "source": [
    "linkedList.printList()"
   ]
  },
  {
   "cell_type": "code",
   "execution_count": null,
   "metadata": {
    "collapsed": true
   },
   "outputs": [],
   "source": []
  }
 ],
 "metadata": {
  "kernelspec": {
   "display_name": "Python 3",
   "language": "python",
   "name": "python3"
  },
  "language_info": {
   "codemirror_mode": {
    "name": "ipython",
    "version": 3
   },
   "file_extension": ".py",
   "mimetype": "text/x-python",
   "name": "python",
   "nbconvert_exporter": "python",
   "pygments_lexer": "ipython3",
   "version": "3.6.1"
  }
 },
 "nbformat": 4,
 "nbformat_minor": 2
}
