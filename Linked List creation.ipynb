{
 "cells": [
  {
   "cell_type": "code",
   "execution_count": 30,
   "metadata": {
    "collapsed": true
   },
   "outputs": [],
   "source": [
    "class Node:\n",
    "    def __init__(self, data):\n",
    "        self.data = data\n",
    "        self.next = None"
   ]
  },
  {
   "cell_type": "code",
   "execution_count": 31,
   "metadata": {
    "collapsed": true
   },
   "outputs": [],
   "source": [
    "class LinkedList:\n",
    "    def __init__(self):\n",
    "        self.head = None\n",
    "        \n",
    "    def insert(self, newNode):\n",
    "        #first check whether the head of the ll is empty or not:-\n",
    "        if self.head is None:\n",
    "            self.head = newNode\n",
    "        else:\n",
    "            #self.head.next = newNode  ...not an ideal solution we will se this:-\n",
    "            #head->vishal->shivam->none\n",
    "            #now traversing\n",
    "            lastNode = self.head\n",
    "            while True:\n",
    "                if lastNode.next is None:\n",
    "                    break\n",
    "                lastNode = lastNode.next\n",
    "            lastNode.next = newNode\n",
    "    \n",
    "    def printList(self):\n",
    "        if self.head is None:\n",
    "            print('List is Empty')\n",
    "        #head->vishal->shivam->budha->None\n",
    "        currentNode = self.head\n",
    "        while True:\n",
    "            if currentNode is None:\n",
    "                break\n",
    "            print(currentNode.data+'|')\n",
    "            currentNode = currentNode.next\n",
    "        "
   ]
  },
  {
   "cell_type": "code",
   "execution_count": 32,
   "metadata": {},
   "outputs": [
    {
     "name": "stdout",
     "output_type": "stream",
     "text": [
      "Vishal|\n",
      "Shivam|\n",
      "Susheel|\n"
     ]
    }
   ],
   "source": [
    "#firstNode.data =>vishal and points to none\n",
    "firstNode = Node(\"Vishal\")\n",
    "#now adding the object node to the linked list:-\n",
    "linkedList = LinkedList() #no parameter is passed bcz its empty initially and head should be None this time so we make init and make that head as none\n",
    "#now insert the node:-\n",
    "linkedList.insert(firstNode) #now there should be an insert method to insert the node so we make this in the class:-\n",
    "\n",
    "secondNode = Node('Shivam')\n",
    "linkedList.insert(secondNode)\n",
    "\n",
    "thirdNode = Node('Susheel')\n",
    "linkedList.insert(thirdNode)\n",
    "#now self.head.next = newNode ,when we insert this the upper code will make ll as head->vishal->budha->none ie there is no shivam\n",
    "#so we will change our code:-\n",
    "#we saw that the last node's next point to None , hence the new node should be added to the next of last node\n",
    "#now how to find the last node, is by doing the traversal:-\n",
    "linkedList.printList()"
   ]
  },
  {
   "cell_type": "code",
   "execution_count": null,
   "metadata": {
    "collapsed": true
   },
   "outputs": [],
   "source": []
  },
  {
   "cell_type": "code",
   "execution_count": null,
   "metadata": {
    "collapsed": true
   },
   "outputs": [],
   "source": []
  },
  {
   "cell_type": "code",
   "execution_count": 33,
   "metadata": {},
   "outputs": [
    {
     "data": {
      "text/plain": [
       "'INSERTING THE NODE AT THE START OF LL'"
      ]
     },
     "execution_count": 33,
     "metadata": {},
     "output_type": "execute_result"
    }
   ],
   "source": [
    "'''INSERTING THE NODE AT THE START OF LL'''"
   ]
  },
  {
   "cell_type": "code",
   "execution_count": null,
   "metadata": {
    "collapsed": true
   },
   "outputs": [],
   "source": []
  },
  {
   "cell_type": "code",
   "execution_count": null,
   "metadata": {
    "collapsed": true
   },
   "outputs": [],
   "source": []
  },
  {
   "cell_type": "code",
   "execution_count": 4,
   "metadata": {
    "collapsed": true
   },
   "outputs": [],
   "source": [
    "class Node:\n",
    "    def __init__(self, data):\n",
    "        self.data = data\n",
    "        self.next = None"
   ]
  },
  {
   "cell_type": "code",
   "execution_count": 26,
   "metadata": {
    "collapsed": true
   },
   "outputs": [],
   "source": [
    "class LinkedList:\n",
    "    def __init__(self):\n",
    "        self.head = None\n",
    "        \n",
    "    def insert(self, newNode):\n",
    "        #first check whether the head of the ll is empty or not:-\n",
    "        if self.head is None:\n",
    "            self.head = newNode\n",
    "        else:\n",
    "            #self.head.next = newNode  ...not an ideal solution we will se this:-\n",
    "            #head->vishal->shivam->none\n",
    "            #now traversing\n",
    "            lastNode = self.head\n",
    "            while True:\n",
    "                if lastNode.next is None:\n",
    "                    break\n",
    "                lastNode = lastNode.next\n",
    "            lastNode.next = newNode\n",
    "            \n",
    "    def insertStart(self, startNode):\n",
    "        if self.head is None:\n",
    "            self.head = startNode\n",
    "        else:\n",
    "            self.temp = self.head\n",
    "            self.head = startNode\n",
    "            startNode.next = self.temp\n",
    "            del self.temp\n",
    "    \n",
    "    def printList(self):\n",
    "        if self.head is None:\n",
    "            print('List is Empty')\n",
    "        #head->vishal->shivam->budha->None\n",
    "        currentNode = self.head\n",
    "        while True:\n",
    "            if currentNode is None:\n",
    "                break\n",
    "            print(currentNode.data+'|')\n",
    "            currentNode = currentNode.next\n",
    "        "
   ]
  },
  {
   "cell_type": "code",
   "execution_count": 27,
   "metadata": {},
   "outputs": [
    {
     "name": "stdout",
     "output_type": "stream",
     "text": [
      "Vishal|\n",
      "Shivam|\n",
      "Susheel|\n"
     ]
    }
   ],
   "source": [
    "#firstNode.data =>vishal and points to none\n",
    "firstNode = Node(\"Vishal\")\n",
    "#now adding the object node to the linked list:-\n",
    "linkedList = LinkedList() #no parameter is passed bcz its empty initially and head should be None this time so we make init and make that head as none\n",
    "#now insert the node:-\n",
    "linkedList.insert(firstNode) #now there should be an insert method to insert the node so we make this in the class:-\n",
    "\n",
    "secondNode = Node('Shivam')\n",
    "linkedList.insert(secondNode)\n",
    "\n",
    "thirdNode = Node('Susheel')\n",
    "linkedList.insert(thirdNode)\n",
    "#now self.head.next = newNode ,when we insert this the upper code will make ll as head->vishal->budha->none ie there is no shivam\n",
    "#so we will change our code:-\n",
    "#we saw that the last node's next point to None , hence the new node should be added to the next of last node\n",
    "#now how to find the last node, is by doing the traversal:-\n",
    "linkedList.printList()"
   ]
  },
  {
   "cell_type": "code",
   "execution_count": 28,
   "metadata": {},
   "outputs": [],
   "source": [
    "startNode = Node(\"Topper\")\n",
    "linkedList.insertStart(startNode)"
   ]
  },
  {
   "cell_type": "code",
   "execution_count": 29,
   "metadata": {},
   "outputs": [
    {
     "name": "stdout",
     "output_type": "stream",
     "text": [
      "Topper|\n",
      "Vishal|\n",
      "Shivam|\n",
      "Susheel|\n"
     ]
    }
   ],
   "source": [
    "linkedList.printList()"
   ]
  },
  {
   "cell_type": "code",
   "execution_count": 30,
   "metadata": {
    "collapsed": true
   },
   "outputs": [],
   "source": [
    "startNode = Node(\"beginning\")\n",
    "linkedList.insertStart(startNode)"
   ]
  },
  {
   "cell_type": "code",
   "execution_count": 31,
   "metadata": {},
   "outputs": [
    {
     "name": "stdout",
     "output_type": "stream",
     "text": [
      "beginning|\n",
      "Topper|\n",
      "Vishal|\n",
      "Shivam|\n",
      "Susheel|\n"
     ]
    }
   ],
   "source": [
    "linkedList.printList()"
   ]
  },
  {
   "cell_type": "code",
   "execution_count": null,
   "metadata": {
    "collapsed": true
   },
   "outputs": [],
   "source": []
  },
  {
   "cell_type": "code",
   "execution_count": null,
   "metadata": {
    "collapsed": true
   },
   "outputs": [],
   "source": []
  },
  {
   "cell_type": "code",
   "execution_count": null,
   "metadata": {
    "collapsed": true
   },
   "outputs": [],
   "source": []
  },
  {
   "cell_type": "code",
   "execution_count": 32,
   "metadata": {},
   "outputs": [
    {
     "data": {
      "text/plain": [
       "'INSERTING IN BETWEEN THE TWO NODES'"
      ]
     },
     "execution_count": 32,
     "metadata": {},
     "output_type": "execute_result"
    }
   ],
   "source": [
    "'''INSERTING IN BETWEEN THE TWO NODES'''"
   ]
  },
  {
   "cell_type": "code",
   "execution_count": null,
   "metadata": {
    "collapsed": true
   },
   "outputs": [],
   "source": []
  },
  {
   "cell_type": "code",
   "execution_count": 113,
   "metadata": {
    "collapsed": true
   },
   "outputs": [],
   "source": [
    "class Node:\n",
    "    def __init__(self, data):\n",
    "        self.data = data\n",
    "        self.next = None"
   ]
  },
  {
   "cell_type": "code",
   "execution_count": 114,
   "metadata": {
    "collapsed": true
   },
   "outputs": [],
   "source": [
    "class LinkedList:\n",
    "    def __init__(self):\n",
    "        self.head = None\n",
    "    \n",
    "    def listlength(self):\n",
    "        currentNode = self.head\n",
    "        length = 0\n",
    "        while currentNode is not None:\n",
    "            length+=1\n",
    "            currentNode = currentNode.next\n",
    "        return length\n",
    "        \n",
    "            \n",
    "    def insert(self, newNode):\n",
    "        #first check whether the head of the ll is empty or not:-\n",
    "        if self.head is None:\n",
    "            self.head = newNode\n",
    "        else:\n",
    "            #self.head.next = newNode  ...not an ideal solution we will se this:-\n",
    "            #head->vishal->shivam->none\n",
    "            #now traversing\n",
    "            lastNode = self.head\n",
    "            while True:\n",
    "                if lastNode.next is None:\n",
    "                    break\n",
    "                lastNode = lastNode.next\n",
    "            lastNode.next = newNode\n",
    "            \n",
    "    def insertStart(self, startNode):\n",
    "        if self.head is None:\n",
    "            self.head = startNode\n",
    "        else:\n",
    "            self.temp = self.head\n",
    "            self.head = startNode\n",
    "            startNode.next = self.temp\n",
    "            del self.temp\n",
    "            \n",
    "    def insertBetween(self, betweenNode, pos):\n",
    "        if pos < 0 or pos > self.listlength():\n",
    "            print('Invalid position')\n",
    "        elif pos is 0:\n",
    "            self.insertStart(betweenNode)\n",
    "            return\n",
    "        else:\n",
    "            currentNode = self.head\n",
    "            current_pos = 0\n",
    "            while True:\n",
    "                if current_pos == pos:\n",
    "                    prevNode.next = betweenNode\n",
    "                    betweenNode.next = currentNode\n",
    "                    break\n",
    "                    \n",
    "                prevNode = currentNode     \n",
    "                currentNode = currentNode.next\n",
    "                current_pos += 1\n",
    "    \n",
    "    def printList(self):\n",
    "        if self.head is None:\n",
    "            print('List is Empty')\n",
    "        #head->vishal->shivam->budha->None\n",
    "        currentNode = self.head\n",
    "        while True:\n",
    "            if currentNode is None:\n",
    "                break\n",
    "            print(currentNode.data+'|')\n",
    "            currentNode = currentNode.next\n",
    "        "
   ]
  },
  {
   "cell_type": "code",
   "execution_count": 115,
   "metadata": {},
   "outputs": [
    {
     "name": "stdout",
     "output_type": "stream",
     "text": [
      "Vishal|\n",
      "ShivamDhama|\n",
      "Susheel|\n"
     ]
    }
   ],
   "source": [
    "#firstNode.data =>vishal and points to none\n",
    "firstNode = Node(\"Vishal\")\n",
    "#now adding the object node to the linked list:-\n",
    "linkedList = LinkedList() #no parameter is passed bcz its empty initially and head should be None this time so we make init and make that head as none\n",
    "#now insert the node:-\n",
    "linkedList.insert(firstNode) #now there should be an insert method to insert the node so we make this in the class:-\n",
    "\n",
    "secondNode = Node('ShivamDhama')\n",
    "linkedList.insert(secondNode)\n",
    "\n",
    "thirdNode = Node('Susheel')\n",
    "linkedList.insert(thirdNode)\n",
    "#now self.head.next = newNode ,when we insert this the upper code will make ll as head->vishal->budha->none ie there is no shivam\n",
    "#so we will change our code:-\n",
    "#we saw that the last node's next point to None , hence the new node should be added to the next of last node\n",
    "#now how to find the last node, is by doing the traversal:-\n",
    "linkedList.printList()"
   ]
  },
  {
   "cell_type": "code",
   "execution_count": 116,
   "metadata": {
    "collapsed": true
   },
   "outputs": [],
   "source": [
    "betweenNode = Node(\"Between\")"
   ]
  },
  {
   "cell_type": "code",
   "execution_count": 117,
   "metadata": {},
   "outputs": [
    {
     "name": "stdout",
     "output_type": "stream",
     "text": [
      "Invalid position\n"
     ]
    }
   ],
   "source": [
    "linkedList.insertBetween(betweenNode,7)"
   ]
  },
  {
   "cell_type": "code",
   "execution_count": 118,
   "metadata": {},
   "outputs": [
    {
     "name": "stdout",
     "output_type": "stream",
     "text": [
      "Vishal|\n",
      "ShivamDhama|\n",
      "Susheel|\n"
     ]
    }
   ],
   "source": [
    "linkedList.printList()"
   ]
  },
  {
   "cell_type": "code",
   "execution_count": null,
   "metadata": {
    "collapsed": true
   },
   "outputs": [],
   "source": []
  }
 ],
 "metadata": {
  "kernelspec": {
   "display_name": "Python 3",
   "language": "python",
   "name": "python3"
  },
  "language_info": {
   "codemirror_mode": {
    "name": "ipython",
    "version": 3
   },
   "file_extension": ".py",
   "mimetype": "text/x-python",
   "name": "python",
   "nbconvert_exporter": "python",
   "pygments_lexer": "ipython3",
   "version": "3.6.1"
  }
 },
 "nbformat": 4,
 "nbformat_minor": 2
}
